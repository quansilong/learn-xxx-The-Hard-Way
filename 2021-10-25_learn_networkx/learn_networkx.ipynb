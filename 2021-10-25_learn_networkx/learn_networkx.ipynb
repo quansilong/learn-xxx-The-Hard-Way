{
 "cells": [
  {
   "cell_type": "markdown",
   "metadata": {},
   "source": [
    "# 图论基本知识\n",
    "\n",
    "- [图论基础和表示](https://www.runoob.com/data-structures/graph-theory.html)\n",
    "- [从七桥问题初探拓扑学思维](http://www.xinhuanet.com/science/2018-06/28/c_137286726.htm)\n",
    "- [从七桥问题开始：全面介绍图论及其应用](https://zhuanlan.zhihu.com/p/34442520)\n",
    "\n",
    "- [NetworkX Document](https://networkx.org/documentation/stable/tutorial.html)"
   ]
  },
  {
   "cell_type": "markdown",
   "metadata": {},
   "source": [
    "## 创建图\n",
    "\n",
    "图是一系列节点(node, vertices)以及节点对(edge, link)的集合。在networkx中，字符串、图片、XML、另一个图等可hash对象均可作为节点。"
   ]
  },
  {
   "cell_type": "code",
   "execution_count": 1,
   "metadata": {},
   "outputs": [],
   "source": [
    "import networkx as nx \n",
    "G = nx.Graph()"
   ]
  },
  {
   "cell_type": "code",
   "execution_count": 2,
   "metadata": {},
   "outputs": [
    {
     "name": "stdout",
     "output_type": "stream",
     "text": [
      "[1, 2, 3, 4, 5, 0, 6, 7, 8, 9]\n"
     ]
    }
   ],
   "source": [
    "# 添加节点\n",
    "G.add_node(1)                   #一次添加一个节点\n",
    "G.add_nodes_from([2,3])         #一次添加多个节点\n",
    "G.add_nodes_from([              #添加节点时，添加节点属性\n",
    "    (4, {\"color\": \"red\"}),      # (node, node_attr_dict) \n",
    "    (5, {\"color\": \"green\"})\n",
    "])\n",
    "H = nx.path_graph(10)\n",
    "G.add_nodes_from(H)             #添加H中的所有节点\n",
    "print(G.nodes)\n",
    "#G.add_node(H)                   #将图H作为一个节点"
   ]
  },
  {
   "cell_type": "markdown",
   "metadata": {},
   "source": [
    "## 处理CO2 -> CCO"
   ]
  },
  {
   "cell_type": "code",
   "execution_count": 5,
   "metadata": {},
   "outputs": [
    {
     "name": "stdout",
     "output_type": "stream",
     "text": [
      "58 187\n"
     ]
    }
   ],
   "source": [
    "with open(\"nodes.txt\") as f:\n",
    "    nodes = f.readlines()\n",
    "    nodes = [i.split(\"\\n\")[0] for i in nodes]\n",
    "with open(\"edges.txt\") as f:\n",
    "    edges = f.readlines()\n",
    "    edges = [i.split(\"\\n\")[0] for i in edges]\n",
    "    edges = [set(i.split(\">>\")) for i in edges]\n",
    "print(len(nodes), len(edges))\n",
    "#print(edges)\n",
    "CDO2OL = nx.Graph()\n",
    "CDO2OL.add_nodes_from(nodes)\n",
    "CDO2OL.add_edges_from(edges)\n",
    "\n",
    "#import matplotlib.pyplot as plt\n",
    "#plt.figure(figsize=(8,8), dpi=150)\n",
    "#nx.draw(CDO2OL)#, with_labels=True)"
   ]
  },
  {
   "cell_type": "code",
   "execution_count": 8,
   "metadata": {},
   "outputs": [
    {
     "data": {
      "image/png": "[encoded data removed]",
      "text/plain": [
       "<Figure size 432x288 with 1 Axes>"
      ]
     },
     "metadata": {},
     "output_type": "display_data"
    }
   ],
   "source": [
    "import networkx as nx\n",
    "G=nx.DiGraph() #创建什么都没有的空图\n",
    "\n",
    "#step2:给上述空图加边\n",
    "start=[1,3,5,7,8,5]#边的起点列表\n",
    "to=[2,4,6,8,7,8]#边的终点列表\n",
    "for j in range(len(start)):\n",
    "    G.add_edge(start[j], to[j]) \n",
    "nx.draw(G,with_labels=True)"
   ]
  },
  {
   "cell_type": "code",
   "execution_count": null,
   "metadata": {},
   "outputs": [],
   "source": []
  }
 ],
 "metadata": {
  "interpreter": {
   "hash": "0396348cf0bd715442f30fcb9e0c9b8a6e44d5f9f772fc1b0bc91b70fd81a3e6"
  },
  "kernelspec": {
   "display_name": "Python 3.8.12 64-bit ('base': conda)",
   "name": "python3"
  },
  "language_info": {
   "codemirror_mode": {
    "name": "ipython",
    "version": 3
   },
   "file_extension": ".py",
   "mimetype": "text/x-python",
   "name": "python",
   "nbconvert_exporter": "python",
   "pygments_lexer": "ipython3",
   "version": "3.8.12"
  },
  "orig_nbformat": 4
 },
 "nbformat": 4,
 "nbformat_minor": 2
}
