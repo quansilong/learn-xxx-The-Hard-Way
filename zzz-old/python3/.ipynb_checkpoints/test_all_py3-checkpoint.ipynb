{
 "cells": [
  {
   "cell_type": "code",
   "execution_count": 9,
   "metadata": {
    "scrolled": true
   },
   "outputs": [],
   "source": [
    "%run ./projects/1-实用项目集/点名器/dianming_1.0.py"
   ]
  },
  {
   "cell_type": "code",
   "execution_count": 17,
   "metadata": {},
   "outputs": [
    {
     "name": "stdout",
     "output_type": "stream",
     "text": [
      "Pi的值是 3.132\n",
      "程序的运行时间是 6.484s\n"
     ]
    }
   ],
   "source": [
    "# 蒙特卡洛计算pi\n",
    "#     https://blog.csdn.net/Daniel960601/article/details/79121055\n",
    "from random import random\n",
    "from math import sqrt\n",
    "from time import process_time\n",
    "DARTS = 12000\n",
    "hits = 0\n",
    "process_time()\n",
    "for i in range(1, DARTS):\n",
    "    x, y = random(), random();\n",
    "    dist = sqrt(x**2 + y**2)\n",
    "    if dist <= 1.0:\n",
    "        hits = hits + 1\n",
    "pi = 4 * (hits/DARTS)\n",
    "print('Pi的值是 %s' % pi)\n",
    "print('程序的运行时间是 %-5.5ss' % process_time())\n"
   ]
  }
 ],
 "metadata": {
  "kernelspec": {
   "display_name": "Python 3",
   "language": "python",
   "name": "python3"
  },
  "language_info": {
   "codemirror_mode": {
    "name": "ipython",
    "version": 3
   },
   "file_extension": ".py",
   "mimetype": "text/x-python",
   "name": "python",
   "nbconvert_exporter": "python",
   "pygments_lexer": "ipython3",
   "version": "3.7.1"
  }
 },
 "nbformat": 4,
 "nbformat_minor": 2
}
