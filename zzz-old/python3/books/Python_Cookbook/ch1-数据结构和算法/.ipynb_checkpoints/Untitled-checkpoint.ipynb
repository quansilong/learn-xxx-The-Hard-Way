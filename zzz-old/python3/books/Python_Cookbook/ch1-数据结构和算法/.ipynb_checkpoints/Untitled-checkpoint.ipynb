{
 "cells": [
  {
   "cell_type": "markdown",
   "metadata": {},
   "source": [
    "### 1、解压序列赋值给多个变量\n",
    "\n",
    "        解：通过赋值语句即可（注：变量个数于序列元素个数一致）"
   ]
  },
  {
   "cell_type": "code",
   "execution_count": 5,
   "metadata": {},
   "outputs": [
    {
     "name": "stdout",
     "output_type": "stream",
     "text": [
      "4 5\n"
     ]
    }
   ],
   "source": [
    "p = (4,5)\n",
    "x,y = p\n",
    "print(x,y)"
   ]
  },
  {
   "cell_type": "code",
   "execution_count": 3,
   "metadata": {},
   "outputs": [
    {
     "name": "stdout",
     "output_type": "stream",
     "text": [
      "ACME 50 91.1 (2012, 12, 21)\n",
      "2012 12 21\n"
     ]
    }
   ],
   "source": [
    "data = [ \"ACME\", 50, 91.1, (2012, 12, 21)]\n",
    "name, shares, price, date = data\n",
    "print(name, shares, price, date)\n",
    "\n",
    "year, month, day = date\n",
    "print(year, month, day)"
   ]
  },
  {
   "cell_type": "code",
   "execution_count": 7,
   "metadata": {},
   "outputs": [
    {
     "name": "stdout",
     "output_type": "stream",
     "text": [
      "50 91.1\n"
     ]
    }
   ],
   "source": [
    "# \"_\"做为占位符使用，丢弃一些元素\n",
    "data = [ \"ACME\", 50, 91.1, (2012, 12, 21)]\n",
    "_, shares, price, _ = data\n",
    "print(shares, price)"
   ]
  },
  {
   "cell_type": "markdown",
   "metadata": {},
   "source": [
    "### 2、解压可迭代对象赋值给多个变量\n",
    "\n",
    "        解：使用“*”将多个元素赋值给一个变量，使该变量为列表类型\n",
    "            （不管多少个，包括零个）"
   ]
  },
  {
   "cell_type": "code",
   "execution_count": 8,
   "metadata": {},
   "outputs": [
    {
     "name": "stdout",
     "output_type": "stream",
     "text": [
      "dave dave@123.com ['124123254', '4132414551']\n"
     ]
    }
   ],
   "source": [
    "record = ('dave', 'dave@123.com', '124123254', '4132414551')\n",
    "name, email, *phone_numbers = record\n",
    "print(name, email, phone_numbers)"
   ]
  },
  {
   "cell_type": "code",
   "execution_count": 9,
   "metadata": {},
   "outputs": [
    {
     "name": "stdout",
     "output_type": "stream",
     "text": [
      "[12, 1, 6, 7, 90] 2\n"
     ]
    }
   ],
   "source": [
    "*trailing, current = [12, 1, 6, 7, 90, 2]\n",
    "print(trailing, current)"
   ]
  },
  {
   "cell_type": "code",
   "execution_count": 10,
   "metadata": {},
   "outputs": [
    {
     "name": "stdout",
     "output_type": "stream",
     "text": [
      "91.1 2012\n"
     ]
    }
   ],
   "source": [
    "# '_'和'*'可以共用，丢弃多个元素\n",
    "\n",
    "data = [ \"ACME\", 50, 91.1, (2012, 12, 21)]\n",
    "*_, price, (year, *_) = data\n",
    "print(price, year)"
   ]
  },
  {
   "cell_type": "markdown",
   "metadata": {},
   "source": [
    "### 3、保留最后的N个元素\n",
    "\n",
    "        解：使用collections.deque"
   ]
  },
  {
   "cell_type": "code",
   "execution_count": 16,
   "metadata": {},
   "outputs": [
    {
     "name": "stdout",
     "output_type": "stream",
     "text": [
      "docs.python.org\n",
      "--------------------\n",
      "jobs.python.org--------------------\n"
     ]
    }
   ],
   "source": [
    "# 在多行文本中返回前N行中匹配成功的行\n",
    "\n",
    "from collections import deque\n",
    "\n",
    "def search(lines, pattern, history=5):\n",
    "    # deque(maxlen=N)构造一个固定大小的队列\n",
    "    #    当有新元素加入并且该队列已满，则最老的元素会被自动移除\n",
    "    previous_lines = deque(maxlen=history) \n",
    "    for li in lines:\n",
    "        if pattern in li:\n",
    "            yield li, previous_lines\n",
    "        previous_lines.append(li)\n",
    "        \n",
    "\n",
    "if __name__ == \"__main__\":\n",
    "    with open(r'../test_files/somefile.txt') as f:\n",
    "        for line, prevlines in search(f, \"python\", 0):\n",
    "            for pline in prevlines:\n",
    "                print(pline, end='')\n",
    "            print(line, end='')\n",
    "            print('-' * 20)"
   ]
  },
  {
   "cell_type": "code",
   "execution_count": 18,
   "metadata": {},
   "outputs": [
    {
     "name": "stdout",
     "output_type": "stream",
     "text": [
      "deque([1, 2, 3])\n",
      "deque([456, 1, 2, 3])\n",
      "deque([456, 1, 2])\n",
      "deque([1, 2])\n"
     ]
    }
   ],
   "source": [
    "# deque(maxlen=N)\n",
    "# 若不指定N，则得到一个无限大的队列，两端均可执行添加和弹出元素的操作\n",
    "q = deque()\n",
    "q.append(1)\n",
    "q.append(2)\n",
    "q.append(3) # 右侧添加元素\n",
    "print(q)\n",
    "\n",
    "q.appendleft(456) # 左侧添加元素\n",
    "print(q)\n",
    "\n",
    "q.pop()     # 右侧弹出元素\n",
    "print(q)\n",
    "\n",
    "q.popleft() # 左侧添加元素\n",
    "print(q)\n",
    "\n",
    "\n",
    "# 注意：在队列两端插入或删除元素时间复杂度都是 O(1) ，\n",
    "#   而在列表的开头插入或删除元素的时间复杂度为 O(N)"
   ]
  },
  {
   "cell_type": "markdown",
   "metadata": {},
   "source": [
    "### 4、查找最大或最小的N个元素\n",
    "\n",
    "        解：使用heapq模块中的nlagest()和nsmallest()"
   ]
  },
  {
   "cell_type": "code",
   "execution_count": 1,
   "metadata": {},
   "outputs": [
    {
     "name": "stdout",
     "output_type": "stream",
     "text": [
      "[2324523, 52345, 45234]\n",
      "[1, 3, 4]\n"
     ]
    }
   ],
   "source": [
    "import heapq\n",
    "nums = [1, 4, 2314, 254, 3653, 5234, 45234, 3, 345, 32454 ,52345, 2324523]\n",
    "print(heapq.nlargest(3, nums))\n",
    "print(heapq.nsmallest(3, nums))\n",
    "\n",
    "# 利用了堆数据结构，其最重要的特征是heapq[0]永远是最小的元素"
   ]
  },
  {
   "cell_type": "markdown",
   "metadata": {},
   "source": [
    "### 5、实现一个优先级队列\n",
    "     \n",
    "        解："
   ]
  },
  {
   "cell_type": "code",
   "execution_count": null,
   "metadata": {},
   "outputs": [],
   "source": []
  },
  {
   "cell_type": "code",
   "execution_count": null,
   "metadata": {},
   "outputs": [],
   "source": []
  },
  {
   "cell_type": "code",
   "execution_count": null,
   "metadata": {},
   "outputs": [],
   "source": []
  },
  {
   "cell_type": "code",
   "execution_count": null,
   "metadata": {},
   "outputs": [],
   "source": []
  },
  {
   "cell_type": "code",
   "execution_count": null,
   "metadata": {},
   "outputs": [],
   "source": []
  },
  {
   "cell_type": "code",
   "execution_count": null,
   "metadata": {},
   "outputs": [],
   "source": []
  },
  {
   "cell_type": "code",
   "execution_count": null,
   "metadata": {},
   "outputs": [],
   "source": []
  },
  {
   "cell_type": "code",
   "execution_count": null,
   "metadata": {},
   "outputs": [],
   "source": []
  },
  {
   "cell_type": "code",
   "execution_count": null,
   "metadata": {},
   "outputs": [],
   "source": []
  },
  {
   "cell_type": "code",
   "execution_count": null,
   "metadata": {},
   "outputs": [],
   "source": []
  },
  {
   "cell_type": "code",
   "execution_count": null,
   "metadata": {},
   "outputs": [],
   "source": []
  },
  {
   "cell_type": "code",
   "execution_count": null,
   "metadata": {},
   "outputs": [],
   "source": []
  },
  {
   "cell_type": "code",
   "execution_count": null,
   "metadata": {},
   "outputs": [],
   "source": []
  },
  {
   "cell_type": "code",
   "execution_count": null,
   "metadata": {},
   "outputs": [],
   "source": []
  }
 ],
 "metadata": {
  "kernelspec": {
   "display_name": "Python 3",
   "language": "python",
   "name": "python3"
  },
  "language_info": {
   "codemirror_mode": {
    "name": "ipython",
    "version": 3
   },
   "file_extension": ".py",
   "mimetype": "text/x-python",
   "name": "python",
   "nbconvert_exporter": "python",
   "pygments_lexer": "ipython3",
   "version": "3.7.1"
  }
 },
 "nbformat": 4,
 "nbformat_minor": 2
}
