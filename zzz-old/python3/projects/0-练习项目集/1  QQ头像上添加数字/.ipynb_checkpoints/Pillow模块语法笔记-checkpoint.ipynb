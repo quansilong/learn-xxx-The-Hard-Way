{
 "cells": [
  {
   "cell_type": "markdown",
   "metadata": {},
   "source": [
    "###  1. 图片的剪裁"
   ]
  },
  {
   "cell_type": "code",
   "execution_count": 10,
   "metadata": {},
   "outputs": [],
   "source": [
    "from PIL import Image\n",
    "\n",
    "im = Image.open(\"test.jpg\") #打开图片，将图片信息保存到im对象中\n",
    "box = (10,10,1000,1000)\n",
    "region = im.crop(box)       #创建一个新的图片对象，并复制im的（10,10）-（1000,1000）像素到region中\n",
    "region.save(\"test-1.jpg\")   #region对象保存到文件test-1.jpg中"
   ]
  },
  {
   "cell_type": "markdown",
   "metadata": {},
   "source": [
    "###  2. 图片的背景拼接"
   ]
  },
  {
   "cell_type": "code",
   "execution_count": 14,
   "metadata": {},
   "outputs": [],
   "source": [
    "from PIL import Image\n",
    "\n",
    "bg = Image.open(\"test.jpg\")\n",
    "im = Image.open(\"wy1.png\")\n",
    "bg.paste(im,(300,300))   # out = bg.paste(...)出错；bg.paste()不返回一个Iamge对象\n",
    "bg.save(\"test-wy1.jpg\")"
   ]
  },
  {
   "cell_type": "markdown",
   "metadata": {},
   "source": [
    "### 3.图片的缩放"
   ]
  },
  {
   "cell_type": "code",
   "execution_count": 17,
   "metadata": {},
   "outputs": [
    {
     "name": "stdout",
     "output_type": "stream",
     "text": [
      "(958, 958) (310, 310)\n"
     ]
    }
   ],
   "source": [
    "from PIL import Image\n",
    "\n",
    "im = Image.open(\"test.jpg\")\n",
    "\n",
    "(x,y) = im.size  #获取图片原大小（958,958）\n",
    "x1 = 310         #强制横向像素为310\n",
    "y1 = int(x1*y/x) #保持横纵比不变，y1/x1=y/x\n",
    "\n",
    "out = im.resize((x1,y1),Image.ANTIALIAS) #重新设置大小，ANTIALIAS消除锯齿\n",
    "out.save(\"test-suofang.jpg\")\n",
    "\n",
    "print((x,y),(x1,y1))"
   ]
  },
  {
   "cell_type": "markdown",
   "metadata": {},
   "source": [
    "### 4.图片上写字"
   ]
  },
  {
   "cell_type": "code",
   "execution_count": 33,
   "metadata": {},
   "outputs": [],
   "source": [
    "# coding=utf-8\n",
    "from PIL import Image,ImageDraw,ImageFont\n",
    "\n",
    "txt = \"4\"\n",
    "im = Image.open(\"test.jpg\")\n",
    "draw = ImageDraw.Draw(im)   #创建画布对象\n",
    "ttf = ImageFont.truetype(r'C:\\Users\\LiuGaoyong\\Downloads\\SimHei.ttf', 200) #创建字体对象；Windows文件路径强制不转义\n",
    "draw.text((800,50), txt, fill=(0,0,0), font=ttf) # 把txt文本写入draw对象；Python3没有unicode\n",
    "im.save(\"test-xiezi.jpg\")"
   ]
  },
  {
   "cell_type": "markdown",
   "metadata": {},
   "source": [
    "### 5.图片Alpha通道化（理论上白色全部变成透明）"
   ]
  },
  {
   "cell_type": "code",
   "execution_count": 40,
   "metadata": {},
   "outputs": [],
   "source": [
    "from PIL import Image\n",
    "\n",
    "im = Image.open(\"test.jpg\")\n",
    "im = im.convert(\"RGBA\")\n",
    "datas = im.getdata()\n",
    "newdata = list()\n",
    "for item in datas:\n",
    "    if item[0]>220 and item[1]>220 and item[2]>220:\n",
    "        newdata.append((255,255,255,0))\n",
    "    else:\n",
    "        newdata.append(item)\n",
    "        \n",
    "im.putdata(newdata)\n",
    "im.save(\"test-alpha.png\",\"PNG\")"
   ]
  },
  {
   "cell_type": "markdown",
   "metadata": {},
   "source": [
    "### 6.图片的融合"
   ]
  },
  {
   "cell_type": "code",
   "execution_count": 1,
   "metadata": {},
   "outputs": [],
   "source": [
    "from PIL import Image\n",
    "\n",
    "im1 = Image.open(\"test.jpg\")\n",
    "im2 = Image.new(\"RGB\",im1.size,\"red\") #新建一个与im1等大小的红色图片\n",
    "im3 = Image.blend(im1,im2,0.5)        #如果 alpha = 0.0, 第一个图像返回. 如果alpha =1.0, 第2个图像返回  0.5表示各一半\n",
    "im3.save(\"test-ronghe.jpg\")"
   ]
  },
  {
   "cell_type": "markdown",
   "metadata": {},
   "source": [
    "### 7.最终测试"
   ]
  },
  {
   "cell_type": "code",
   "execution_count": 8,
   "metadata": {},
   "outputs": [],
   "source": [
    "%run test.py"
   ]
  },
  {
   "cell_type": "code",
   "execution_count": null,
   "metadata": {},
   "outputs": [],
   "source": []
  }
 ],
 "metadata": {
  "kernelspec": {
   "display_name": "Python 3",
   "language": "python",
   "name": "python3"
  },
  "language_info": {
   "codemirror_mode": {
    "name": "ipython",
    "version": 3
   },
   "file_extension": ".py",
   "mimetype": "text/x-python",
   "name": "python",
   "nbconvert_exporter": "python",
   "pygments_lexer": "ipython3",
   "version": "3.6.4"
  }
 },
 "nbformat": 4,
 "nbformat_minor": 2
}
