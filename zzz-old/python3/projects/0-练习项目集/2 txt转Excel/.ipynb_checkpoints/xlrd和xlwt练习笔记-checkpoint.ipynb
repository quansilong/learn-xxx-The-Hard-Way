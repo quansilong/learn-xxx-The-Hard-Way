{
 "cells": [
  {
   "cell_type": "code",
   "execution_count": 5,
   "metadata": {},
   "outputs": [],
   "source": [
    "import xlrd,xlwt #仅支持07版xls，openpyxl支持07/10/13版"
   ]
  },
  {
   "cell_type": "code",
   "execution_count": 6,
   "metadata": {},
   "outputs": [
    {
     "name": "stdout",
     "output_type": "stream",
     "text": [
      "['{\\n', '    \"1\":[\"张三\",150,120,100],\\n', '    \"2\":[\"李四\",90,99,95],\\n', '    \"3\":[\"王五\",60,66,68]\\n', '}']\n"
     ]
    }
   ],
   "source": [
    "f = open(\"source.txt\") #读文件到lines中\n",
    "lines = f.readlines()\n",
    "\n",
    "print(lines)  "
   ]
  },
  {
   "cell_type": "code",
   "execution_count": null,
   "metadata": {},
   "outputs": [],
   "source": []
  }
 ],
 "metadata": {
  "kernelspec": {
   "display_name": "Python 3",
   "language": "python",
   "name": "python3"
  },
  "language_info": {
   "codemirror_mode": {
    "name": "ipython",
    "version": 3
   },
   "file_extension": ".py",
   "mimetype": "text/x-python",
   "name": "python",
   "nbconvert_exporter": "python",
   "pygments_lexer": "ipython3",
   "version": "3.5.2"
  }
 },
 "nbformat": 4,
 "nbformat_minor": 2
}
