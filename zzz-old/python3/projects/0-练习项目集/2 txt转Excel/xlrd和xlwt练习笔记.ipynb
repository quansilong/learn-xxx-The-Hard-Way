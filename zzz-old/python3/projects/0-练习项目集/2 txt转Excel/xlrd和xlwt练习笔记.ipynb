{
 "cells": [
  {
   "cell_type": "code",
   "execution_count": 7,
   "metadata": {},
   "outputs": [
    {
     "name": "stdout",
     "output_type": "stream",
     "text": [
      "['{\\n', '    \"1\":[\"寮犱笁\",150,120,100],\\n', '    \"2\":[\"鏉庡洓\",90,99,95],\\n', '    \"3\":[\"鐜嬩簲\",60,66,68]\\n', '}']\n",
      "<class 'str'> {\n",
      "\n",
      "<class 'str'>     \"1\":[\"寮犱笁\",150,120,100],\n",
      "\n",
      "<class 'str'>     \"2\":[\"鏉庡洓\",90,99,95],\n",
      "\n",
      "<class 'str'>     \"3\":[\"鐜嬩簲\",60,66,68]\n",
      "\n",
      "<class 'str'> }\n"
     ]
    }
   ],
   "source": [
    "# _*_ coding:utf-8 _*_\n",
    "import xlrd,xlwt #仅支持07版xls，openpyxl支持07/10/13版\n",
    "f = open(\"source.txt\") #读文件到lines中\n",
    "lines = f.readlines()\n",
    "\n",
    "print(lines) \n",
    "\n",
    "for i in lines:\n",
    "    print(type(i),i)"
   ]
  },
  {
   "cell_type": "code",
   "execution_count": null,
   "metadata": {},
   "outputs": [],
   "source": []
  }
 ],
 "metadata": {
  "kernelspec": {
   "display_name": "Python 3",
   "language": "python",
   "name": "python3"
  },
  "language_info": {
   "codemirror_mode": {
    "name": "ipython",
    "version": 3
   },
   "file_extension": ".py",
   "mimetype": "text/x-python",
   "name": "python",
   "nbconvert_exporter": "python",
   "pygments_lexer": "ipython3",
   "version": "3.6.4"
  }
 },
 "nbformat": 4,
 "nbformat_minor": 2
}
