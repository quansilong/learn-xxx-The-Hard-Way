{
 "cells": [
  {
   "cell_type": "code",
   "execution_count": 2,
   "metadata": {},
   "outputs": [],
   "source": [
    "import tkinter as tk\n",
    "import random\n",
    "import xlrd\n",
    "\n",
    "workbook = xlrd.open_workbook(\"name.xls\")  # 读取表格\n",
    "Data_sheet = workbook.sheets()[0]          # 读取sheet1\n",
    "num_list = []                              # 读取第一列（学号）\n",
    "for i in range(len(Data_sheet.col_values(0))):         # 化浮点数为字符串\n",
    "    num_list.append( str(int(Data_sheet.col_values(0)[i])) + '  ' + Data_sheet.col_values(1)[i] )\n",
    "\n",
    "rdata = random.sample(num_list,24)\n",
    "\n",
    "fileObject = open('sampleList.txt', 'w', encoding ='utf-8')\n",
    "for name in rdata:\n",
    "    fileObject.write(name)\n",
    "    fileObject.write('\\n')\n",
    "fileObject.close()"
   ]
  },
  {
   "cell_type": "code",
   "execution_count": 50,
   "metadata": {},
   "outputs": [
    {
     "name": "stdout",
     "output_type": "stream",
     "text": [
      "[('171830543', '\\xa0丁淳昊'), ('171840719', '\\xa0张凌志'), ('171850092', '\\xa0徐文心'), ('171850526', '\\xa0周松涛'), ('161130056', '\\xa0陆小彤'), ('171850512', '\\xa0李宇琛'), ('171850541', '\\xa0陈龙'), ('171850030', '\\xa0李欣'), ('151170018', '\\xa0李丹阳'), ('171850014', '\\xa0王祎纯'), ('171850547', '\\xa0刘方晴'), ('171850550', '\\xa0于泓喆'), ('171850516', '\\xa0肖阳'), ('171850048', '\\xa0吴家玥'), ('171850074', '\\xa0辛怡'), ('171850031', '\\xa0武靖'), ('171850559', '\\xa0马天睿'), ('151120127', '\\xa0吴为浚'), ('171850056', '\\xa0张敏'), ('171850569', '\\xa0彭雨飞'), ('171850004', '\\xa0陈文文'), ('171850548', '\\xa0朱煜'), ('177240002', '\\xa0俞静'), ('171850043', '\\xa0刘启明'), ('171850049', '\\xa0俞悦')]\n"
     ]
    }
   ],
   "source": []
  },
  {
   "cell_type": "code",
   "execution_count": 1,
   "metadata": {},
   "outputs": [],
   "source": [
    "%run ./dianming_1.0.py"
   ]
  }
 ],
 "metadata": {
  "kernelspec": {
   "display_name": "Python 3",
   "language": "python",
   "name": "python3"
  },
  "language_info": {
   "codemirror_mode": {
    "name": "ipython",
    "version": 3
   },
   "file_extension": ".py",
   "mimetype": "text/x-python",
   "name": "python",
   "nbconvert_exporter": "python",
   "pygments_lexer": "ipython3",
   "version": "3.7.1"
  }
 },
 "nbformat": 4,
 "nbformat_minor": 2
}
