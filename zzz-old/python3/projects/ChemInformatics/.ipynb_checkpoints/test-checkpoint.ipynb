{
 "cells": [
  {
   "cell_type": "code",
   "execution_count": 1,
   "metadata": {},
   "outputs": [
    {
     "name": "stdout",
     "output_type": "stream",
     "text": [
      "2 600 284 2\n"
     ]
    },
    {
     "data": {
      "text/plain": [
       "' \\nprint(len(Fe), len(Al), len(AlCl), len(AlCl3))\\nwith open(\"Fe.txt\", \\'w\\', encoding =\\'utf-8\\') as f:\\n    f.writelines(Fe)\\n    \\nwith open(\"Al.txt\", \\'w\\', encoding =\\'utf-8\\') as f:\\n    f.writelines(Al)\\n    \\nwith open(\"AlCl.txt\", \\'w\\', encoding =\\'utf-8\\') as f:\\n    f.writelines(AlCl)\\n    \\nwith open(\"AlCl3.txt\", \\'w\\', encoding =\\'utf-8\\') as f:\\n    f.writelines(AlCl3)\\n\\n'"
      ]
     },
     "execution_count": 1,
     "metadata": {},
     "output_type": "execute_result"
    }
   ],
   "source": [
    "# 打开文件\n",
    "\n",
    "with open(\"./copy_train - 副本.txt\") as f:\n",
    "    data = f.readlines()\n",
    "\n",
    "Fe = [] \n",
    "Al = []\n",
    "AlCl = []\n",
    "AlCl3 = []\n",
    "for line in data:\n",
    "    if r\"[Fe+3]\" in line:\n",
    "        Fe.append(line)\n",
    "    if r\"[Al+3]\" in line:\n",
    "        Al.append(line)\n",
    "        if r\"[Cl-]\" in line:\n",
    "            AlCl.append(line)\n",
    "            if r\"[Cl-].[Al+3].[Cl-].[Cl-]\" in line:\n",
    "                AlCl3.append(line)\n",
    "                \n",
    "                \n",
    "with open(\"Al-and-Cl.txt\", 'w', encoding ='utf-8') as f:\n",
    "    f.writelines(AlCl)\n",
    "print(len(Fe), len(Al), len(AlCl), len(AlCl3))               \n",
    "''' \n",
    "print(len(Fe), len(Al), len(AlCl), len(AlCl3))\n",
    "with open(\"Fe.txt\", 'w', encoding ='utf-8') as f:\n",
    "    f.writelines(Fe)\n",
    "    \n",
    "with open(\"Al.txt\", 'w', encoding ='utf-8') as f:\n",
    "    f.writelines(Al)\n",
    "    \n",
    "with open(\"AlCl.txt\", 'w', encoding ='utf-8') as f:\n",
    "    f.writelines(AlCl)\n",
    "    \n",
    "with open(\"AlCl3.txt\", 'w', encoding ='utf-8') as f:\n",
    "    f.writelines(AlCl3)\n",
    "\n",
    "'''    \n",
    "\n",
    "\n",
    "\n",
    "\n",
    "\n",
    "#print(firstline)"
   ]
  },
  {
   "cell_type": "code",
   "execution_count": 2,
   "metadata": {},
   "outputs": [
    {
     "data": {
      "text/plain": [
       "'for i in AlCl:\\n    if r\"[Cl-].[Al+3].[Cl-].[Cl-]\" in i:\\n        print(i) \\n        \\nfor i in AlCl:\\n    if r\"[Al+3].[Cl-].[Cl-]\" in i:\\n        print(i)\\n\\nfor i in AlCl:\\n    if r\"[Al+3].[Cl-]\" in i:\\n        print(i) '"
      ]
     },
     "execution_count": 2,
     "metadata": {},
     "output_type": "execute_result"
    }
   ],
   "source": [
    "'''for i in AlCl:\n",
    "    if r\"[Cl-].[Al+3].[Cl-].[Cl-]\" in i:\n",
    "        print(i) \n",
    "        \n",
    "for i in AlCl:\n",
    "    if r\"[Al+3].[Cl-].[Cl-]\" in i:\n",
    "        print(i)\n",
    "\n",
    "for i in AlCl:\n",
    "    if r\"[Al+3].[Cl-]\" in i:\n",
    "        print(i) '''"
   ]
  },
  {
   "cell_type": "code",
   "execution_count": 3,
   "metadata": {},
   "outputs": [],
   "source": [
    "for i in Fe:\n",
    "    index = i.split(\",\")[0]\n",
    "    reaction = i.split(\",\")[1].split(\"|\")[0].split(\">\")\n",
    "    Reactant, Agent, Product = reaction\n",
    "   # print(reaction)\n",
    "   # print()\n",
    "    #print(index, \"\\n\", Reactant,\"\\n\" ,Agent,\"\\n\", Product)\n",
    "   # print()"
   ]
  },
  {
   "cell_type": "code",
   "execution_count": 4,
   "metadata": {},
   "outputs": [],
   "source": [
    "for i in AlCl3:\n",
    "    index = i.split(\",\")[0]\n",
    "    reaction = i.split(\",\")[1].split(\"|\")[0].split(\">\")\n",
    "    Reactant, Agent, Product = reaction\n",
    "   # print(reaction)\n",
    "   # print()\n",
    "    #print(index, \"\\n\", Reactant,\"\\n\" ,Agent,\"\\n\", Product)\n",
    "   # print()"
   ]
  },
  {
   "cell_type": "code",
   "execution_count": null,
   "metadata": {},
   "outputs": [],
   "source": [
    "\n",
    "   \n",
    "    \n",
    "    "
   ]
  },
  {
   "cell_type": "markdown",
   "metadata": {},
   "source": [
    "\n",
    "\n",
    "\n",
    "|Al|AlCl|AlCl3|\n",
    "|------|------|------|\n",
    "|600| 26| 2|\n",
    "    \n",
    "    "
   ]
  },
  {
   "cell_type": "code",
   "execution_count": null,
   "metadata": {},
   "outputs": [],
   "source": []
  },
  {
   "cell_type": "code",
   "execution_count": null,
   "metadata": {},
   "outputs": [],
   "source": []
  },
  {
   "cell_type": "code",
   "execution_count": null,
   "metadata": {},
   "outputs": [],
   "source": []
  },
  {
   "cell_type": "markdown",
   "metadata": {},
   "source": [
    "### RDkit 练习"
   ]
  },
  {
   "cell_type": "code",
   "execution_count": 5,
   "metadata": {},
   "outputs": [
    {
     "data": {
      "image/png": "[encoded data removed]",
      "text/plain": [
       "<rdkit.Chem.rdchem.Mol at 0x26678479210>"
      ]
     },
     "execution_count": 5,
     "metadata": {},
     "output_type": "execute_result"
    }
   ],
   "source": [
    "from rdkit.Chem import AllChem as Chem\n",
    "from rdkit.Chem.Draw import IPythonConsole\n",
    "from rdkit.Chem import Descriptors\n",
    "from rdkit import DataStructs\n",
    "import rdkit\n",
    " \n",
    "smi = 'CCCc1nn(C)c2C(=O)NC(=Nc12)c3cc(ccc3OCC)S(=O)(=O)N4CCN(C)CC4' #sildenafil\n",
    "m = Chem.MolFromSmiles(smi)\n",
    "m\n",
    "\n"
   ]
  },
  {
   "cell_type": "code",
   "execution_count": null,
   "metadata": {},
   "outputs": [],
   "source": []
  },
  {
   "cell_type": "code",
   "execution_count": 6,
   "metadata": {},
   "outputs": [
    {
     "name": "stdout",
     "output_type": "stream",
     "text": [
      "04446\n"
     ]
    },
    {
     "data": {
      "image/png": "[encoded data removed]",
      "text/plain": [
       "<rdkit.Chem.rdchem.Mol at 0x26679b974e0>"
      ]
     },
     "execution_count": 6,
     "metadata": {},
     "output_type": "execute_result"
    }
   ],
   "source": [
    "reaction = AlCl3[0]\n",
    "reactant, agent, product = reaction.split(\",\")[1].split(\"|\")[0].split(\">\")\n",
    "print(reaction.split(\",\")[0])\n",
    "all_m = reactant + \".\" + agent + \".\"+ product\n",
    "m = Chem.MolFromSmiles(all_m)\n",
    "\n",
    "m\n",
    "#m_agent\n",
    "#m_product"
   ]
  },
  {
   "cell_type": "code",
   "execution_count": 7,
   "metadata": {},
   "outputs": [],
   "source": [
    "import matplotlib as plt\n",
    "import matplotlib.image as mpimg\n",
    "from PIL import Image\n",
    "import xlsxwriter\n",
    "%matplotlib inline\n",
    "    \n",
    "def Print_Reaction_From_rsmi(reaction_rsmi):    \n",
    "    mols = reaction_rsmi.split(\">\")\n",
    "    result = [Chem.MolFromSmiles(m) for m in mols]\n",
    "    #print(reaction.split(\",\")[1].split(\"|\")[0])\n",
    "    #print(result)\n",
    "    #map(ch.Compute2DCoords, result)\n",
    "\n",
    "    img = rdkit.Chem.Draw.MolsToGridImage(result, molsPerRow=10, subImgSize=(600,600))\n",
    "    img.save('mol.png')\n",
    "    return img\n",
    "\n",
    "\n",
    "reaction_rsmi_1 = AlCl[0].split(\",\")[1].split(\"|\")[0]\n",
    "Print_Reaction_From_rsmi(reaction_rsmi_1)\n",
    "\n",
    "\n",
    "all_reaction_rsmi = [i.split(\",\")[1].split(\"|\")[0] for i in AlCl3]\n",
    "all_index = [i.split(\",\")[0] for i in AlCl3]\n",
    "#rint(all_reaction_rsmi[0], all_index[0], AlCl3[0])\n",
    "\n",
    "book = xlsxwriter.Workbook('molecule.xlsx')\n",
    "sheet = book.add_worksheet('AlCl3')\n",
    "for j in range(0,len(AlCl3)):\n",
    "    Print_Reaction_From_rsmi(all_reaction_rsmi[j])\n",
    "    sheet.insert_image('B'+str(j+2), 'mol.png')\n",
    "    sheet.insert_textbox('A'+str(j+2), all_index[j])\n",
    "    \n",
    "book.close()\n",
    "    \n",
    "\n",
    "for i in all_reaction_rsmi:\n",
    "    pass"
   ]
  },
  {
   "cell_type": "code",
   "execution_count": null,
   "metadata": {},
   "outputs": [],
   "source": []
  },
  {
   "cell_type": "code",
   "execution_count": 8,
   "metadata": {},
   "outputs": [
    {
     "ename": "TypeError",
     "evalue": "'str' object cannot be interpreted as an integer",
     "output_type": "error",
     "traceback": [
      "\u001b[1;31m---------------------------------------------------------------------------\u001b[0m",
      "\u001b[1;31mTypeError\u001b[0m                                 Traceback (most recent call last)",
      "\u001b[1;32m<ipython-input-8-322c10cb10de>\u001b[0m in \u001b[0;36m<module>\u001b[1;34m\u001b[0m\n\u001b[0;32m      2\u001b[0m \u001b[1;32mimport\u001b[0m \u001b[0mxlsxwriter\u001b[0m\u001b[1;33m\u001b[0m\u001b[1;33m\u001b[0m\u001b[0m\n\u001b[0;32m      3\u001b[0m \u001b[1;33m\u001b[0m\u001b[0m\n\u001b[1;32m----> 4\u001b[1;33m \u001b[1;32mfor\u001b[0m \u001b[0mj\u001b[0m \u001b[1;32min\u001b[0m \u001b[0mrange\u001b[0m\u001b[1;33m(\u001b[0m\u001b[1;36m0\u001b[0m\u001b[1;33m,\u001b[0m\u001b[0mi\u001b[0m\u001b[1;33m)\u001b[0m\u001b[1;33m:\u001b[0m\u001b[1;33m\u001b[0m\u001b[1;33m\u001b[0m\u001b[0m\n\u001b[0m\u001b[0;32m      5\u001b[0m     \u001b[0mbook\u001b[0m \u001b[1;33m=\u001b[0m \u001b[0mxlsxwriter\u001b[0m\u001b[1;33m.\u001b[0m\u001b[0mWorkbook\u001b[0m\u001b[1;33m(\u001b[0m\u001b[1;34m'pict.xlsx'\u001b[0m\u001b[1;33m)\u001b[0m\u001b[1;33m\u001b[0m\u001b[1;33m\u001b[0m\u001b[0m\n\u001b[0;32m      6\u001b[0m     \u001b[0msheet\u001b[0m \u001b[1;33m=\u001b[0m \u001b[0mbook\u001b[0m\u001b[1;33m.\u001b[0m\u001b[0madd_worksheet\u001b[0m\u001b[1;33m(\u001b[0m\u001b[1;34m'demo'\u001b[0m\u001b[1;33m)\u001b[0m\u001b[1;33m\u001b[0m\u001b[1;33m\u001b[0m\u001b[0m\n",
      "\u001b[1;31mTypeError\u001b[0m: 'str' object cannot be interpreted as an integer"
     ]
    }
   ],
   "source": [
    "'''\n",
    "import xlsxwriter\n",
    "\n",
    "for j in range(0,i):\n",
    "    book = xlsxwriter.Workbook('pict.xlsx')\n",
    "    sheet = book.add_worksheet('demo')\n",
    "    sheet.insert_image('D'+str(j), str(j)+'.jpg')\n",
    "book.close()\n",
    "'''"
   ]
  },
  {
   "cell_type": "code",
   "execution_count": null,
   "metadata": {},
   "outputs": [],
   "source": []
  },
  {
   "cell_type": "code",
   "execution_count": null,
   "metadata": {},
   "outputs": [],
   "source": []
  },
  {
   "cell_type": "code",
   "execution_count": null,
   "metadata": {},
   "outputs": [],
   "source": []
  },
  {
   "cell_type": "markdown",
   "metadata": {},
   "source": [
    "### OpenBabel 练习"
   ]
  },
  {
   "cell_type": "code",
   "execution_count": 9,
   "metadata": {},
   "outputs": [],
   "source": [
    "import openbabel\n",
    "import pybel\n",
    "\n"
   ]
  },
  {
   "cell_type": "code",
   "execution_count": null,
   "metadata": {},
   "outputs": [],
   "source": []
  },
  {
   "cell_type": "markdown",
   "metadata": {},
   "source": [
    "### subprocess\n"
   ]
  },
  {
   "cell_type": "code",
   "execution_count": 10,
   "metadata": {},
   "outputs": [
    {
     "data": {
      "text/plain": [
       "'\\n\\nfor i in AlCl:\\n    cml_name  = \"Al-\" + i.split(\",\")[0] + \"-Cl.cml\"\\n    reaction = i.split(\",\")[1]\\n    #print(cdx_name, reaction)\\n    with open(\"tmp.smi\", \"w\", encoding=\"utf-8\") as f:\\n        f.write(reaction)\\n    command = \"babel.exe -ismi tmp.smi -ocml \"+cml_name\\n    print(command)\\n    subprocess.run(command)\\n   '"
      ]
     },
     "execution_count": 10,
     "metadata": {},
     "output_type": "execute_result"
    }
   ],
   "source": [
    "import subprocess\n",
    "'''\n",
    "\n",
    "for i in AlCl:\n",
    "    cml_name  = \"Al-\" + i.split(\",\")[0] + \"-Cl.cml\"\n",
    "    reaction = i.split(\",\")[1]\n",
    "    #print(cdx_name, reaction)\n",
    "    with open(\"tmp.smi\", \"w\", encoding=\"utf-8\") as f:\n",
    "        f.write(reaction)\n",
    "    command = \"babel.exe -ismi tmp.smi -ocml \"+cml_name\n",
    "    print(command)\n",
    "    subprocess.run(command)\n",
    "   '''\n",
    "  #  print(cdx_name)\n",
    "   # print(reaction)\n",
    "   # print()"
   ]
  },
  {
   "cell_type": "code",
   "execution_count": null,
   "metadata": {},
   "outputs": [],
   "source": []
  },
  {
   "cell_type": "markdown",
   "metadata": {},
   "source": [
    "### Test-2 把重复数据去掉？"
   ]
  },
  {
   "cell_type": "code",
   "execution_count": 11,
   "metadata": {},
   "outputs": [
    {
     "name": "stdout",
     "output_type": "stream",
     "text": [
      "15\n"
     ]
    }
   ],
   "source": [
    "data2 = AlCl[:15]\n",
    "print(len(data2))"
   ]
  },
  {
   "cell_type": "code",
   "execution_count": null,
   "metadata": {},
   "outputs": [],
   "source": []
  },
  {
   "cell_type": "markdown",
   "metadata": {},
   "source": [
    "### 搜索氟苯--SMARTS"
   ]
  },
  {
   "cell_type": "code",
   "execution_count": 12,
   "metadata": {},
   "outputs": [
    {
     "name": "stdout",
     "output_type": "stream",
     "text": [
      "13\n"
     ]
    }
   ],
   "source": [
    "import pybel\n",
    "\n",
    "#读入数据\n",
    "with open(\"./copy_train - 副本.txt\") as f:\n",
    "    data = f.readlines()\n",
    "    \n",
    "# 数据结构重新架构：\n",
    "#    (  (index, smiles)\n",
    "#        ... ...    )\n",
    "all_mol = []\n",
    "for i2 in data:\n",
    "    index =  i2.split(\",\")[0]\n",
    "    reaction_smi = i2.split(\",\")[1].split(\"|\")[0]\n",
    "    mol= (index, reaction_smi)\n",
    "    all_mol.append(mol)\n",
    "all_mol_tuple = tuple(all_mol)\n",
    "   \n",
    "\n",
    "# 子结构搜索\n",
    "def structureSearch(smarts_string, mol_name):\n",
    "    molecule = pybel.readstring(\"smi\", mol_name)\n",
    "    smarts = pybel.Smarts(smarts_string)\n",
    "    # print(smarts.findall(molecule))\n",
    "    return smarts.findall(molecule)\n",
    "    \n",
    "# 搜索测试\n",
    "F2 = []\n",
    "for i3 in all_mol_tuple:\n",
    "    #print(i3)\n",
    "    #print()\n",
    "    result = []\n",
    "    for i in i3[1].split(\">\"):\n",
    "        result.append(structureSearch(\"[F*]\",i))\n",
    "    if result[0]:\n",
    "        if result[1]:\n",
    "            if result[1]:\n",
    "                #print(i3[0],result)\n",
    "                F2.append(i3)\n",
    "   #else:\n",
    "    #    print(\"None result \")\n",
    "print(len(F2))\n",
    "# 验证搜索\n"
   ]
  },
  {
   "cell_type": "code",
   "execution_count": 13,
   "metadata": {},
   "outputs": [
    {
     "name": "stdout",
     "output_type": "stream",
     "text": [
      "\n",
      "2191\n",
      "0\n"
     ]
    }
   ],
   "source": [
    "# \n",
    "print()\n",
    "\n",
    "F = [i for i in all_mol_tuple if \"F\" in i[1]]\n",
    "\n",
    "\n",
    "print(len(F))\n",
    "for i3 in all_mol_tuple:\n",
    "    if \"F\" in i3[1]:\n",
    "        #print(i3[0])\n",
    "        pass\n",
    "    \n",
    "FPh = [i for i in F if \"c\" in i[1]]\n",
    "\n",
    "print(len(FPh))"
   ]
  },
  {
   "cell_type": "markdown",
   "metadata": {},
   "source": [
    "### 搜索氟苯--转换成标准smi"
   ]
  },
  {
   "cell_type": "code",
   "execution_count": 2,
   "metadata": {},
   "outputs": [],
   "source": [
    "#/bin/python\n",
    "import pprint\n",
    "import pybel\n",
    "import subprocess\n",
    "\n",
    "def smidb_read_2_list(filename_str):\n",
    "    with open(filename_str) as f:\n",
    "        data = f.readlines()\n",
    "    all_mol = []\n",
    "    for i2 in data:\n",
    "        index =  i2.split(\",\")[0]\n",
    "        reaction_smi = i2.split(\",\")[1].split(\"|\")[0]\n",
    "        mol= (index, reaction_smi)\n",
    "        all_mol.append(mol)\n",
    "    return all_mol\n",
    "\n",
    "\n",
    "if __name__==\"__main__\":\n",
    "    data = smidb_read_2_list(r\"./copy_train - 副本.txt\")\n",
    "    #pprint.pprint(data[0])\n",
    "    \n",
    "\n"
   ]
  },
  {
   "cell_type": "code",
   "execution_count": 7,
   "metadata": {},
   "outputs": [
    {
     "name": "stdout",
     "output_type": "stream",
     "text": [
      "['C(O)(=O)C(O)=O.[OH-].O.[K+].[C:3]1([CH:9]=[CH:10][C:11](=O)[CH:12]([OH:26])[CH2:13][C:14](=[O:25])[CH2:15][CH2:16][CH2:17][CH2:18][CH2:19][CH2:20][CH2:21][C:22]([OH:24])=[O:23])[CH:8]=[CH:7][CH:6]=[CH:5][CH:4]=1', 'C(Cl)(Cl)Cl', '[OH:26][CH:12]1[CH2:13][C:14](=[O:25])[C:15]([CH2:16][CH2:17][CH2:18][CH2:19][CH2:20][CH2:21][C:22]([OH:24])=[O:23])=[C:11]1[CH:10]=[CH:9][C:3]1[CH:8]=[CH:7][CH:6]=[CH:5][CH:4]=1 ']\n",
      "[OH:26][CH:12]1[CH2:13][C:14](=[O:25])[C:15]([CH2:16][CH2:17][CH2:18][CH2:19][CH2:20][CH2:21][C:22]([OH:24])=[O:23])=[C:11]1[CH:10]=[CH:9][C:3]1[CH:8]=[CH:7][CH:6]=[CH:5][CH:4]=1 \n",
      "OC(=O)CCCCCCC1=C(C=Cc2ccccc2)C(CC1=O)O\t\n",
      "\n"
     ]
    }
   ],
   "source": [
    "def smi_write_2_can(rsmi_str):\n",
    "    mols = pybel.readstring(\"smi\", rsmi_str.split(\">\")[-1])\n",
    "    return mols.write(\"can\")\n",
    "\n",
    "# test\n",
    "# input\n",
    "rsmi_str = data[0][1]\n",
    "#print(rsmi_str)\n",
    "\n",
    "rsmi_list = rsmi_str.split(\">\")\n",
    "print(rsmi_list)\n",
    "\n",
    "\n",
    "print(rsmi_str.split(\">\")[-1])\n",
    "mols = pybel.readstring(\"smi\", rsmi_str.split(\">\")[-1])\n",
    "#pybel.informats\n",
    "print(mols.write(\"can\"))"
   ]
  },
  {
   "cell_type": "code",
   "execution_count": null,
   "metadata": {},
   "outputs": [],
   "source": []
  },
  {
   "cell_type": "code",
   "execution_count": null,
   "metadata": {},
   "outputs": [],
   "source": []
  },
  {
   "cell_type": "code",
   "execution_count": null,
   "metadata": {},
   "outputs": [],
   "source": []
  }
 ],
 "metadata": {
  "kernelspec": {
   "display_name": "Python 3",
   "language": "python",
   "name": "python3"
  },
  "language_info": {
   "codemirror_mode": {
    "name": "ipython",
    "version": 3
   },
   "file_extension": ".py",
   "mimetype": "text/x-python",
   "name": "python",
   "nbconvert_exporter": "python",
   "pygments_lexer": "ipython3",
   "version": "3.7.1"
  }
 },
 "nbformat": 4,
 "nbformat_minor": 2
}
